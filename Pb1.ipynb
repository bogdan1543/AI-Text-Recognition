{
 "cells": [
  {
   "metadata": {},
   "cell_type": "markdown",
   "source": [
    "1. Determining the quality of the text recognition process, both at the character level and the word level\n",
    "\n",
    "a. by using a single distance metric\n",
    "\n",
    "b. by using multiple distance metrics"
   ],
   "id": "898190a5067473a4"
  },
  {
   "cell_type": "code",
   "id": "initial_id",
   "metadata": {
    "collapsed": true,
    "ExecuteTime": {
     "end_time": "2025-03-23T20:14:27.640864Z",
     "start_time": "2025-03-23T20:14:27.627771Z"
    }
   },
   "source": [
    "from azure.cognitiveservices.vision.computervision import ComputerVisionClient\n",
    "from azure.cognitiveservices.vision.computervision.models import OperationStatusCodes\n",
    "from msrest.authentication import CognitiveServicesCredentials\n",
    "import os\n",
    "import time"
   ],
   "outputs": [],
   "execution_count": 7
  },
  {
   "metadata": {
    "ExecuteTime": {
     "end_time": "2025-03-23T20:14:28.340063Z",
     "start_time": "2025-03-23T20:14:28.327532Z"
    }
   },
   "cell_type": "code",
   "source": [
    "'''\n",
    "Authenticate\n",
    "Authenticates your credentials and creates a client.\n",
    "'''\n",
    "subscription_key = os.environ[\"VISION_KEY\"]\n",
    "endpoint = os.environ[\"VISION_ENDPOINT\"]\n",
    "computervision_client = ComputerVisionClient(endpoint, CognitiveServicesCredentials(subscription_key))\n",
    "'''\n",
    "END - Authenticate\n",
    "'''"
   ],
   "id": "25feaedd5eb06a3c",
   "outputs": [
    {
     "data": {
      "text/plain": [
       "'\\nEND - Authenticate\\n'"
      ]
     },
     "execution_count": 8,
     "metadata": {},
     "output_type": "execute_result"
    }
   ],
   "execution_count": 8
  },
  {
   "metadata": {
    "ExecuteTime": {
     "end_time": "2025-03-23T20:25:26.931444Z",
     "start_time": "2025-03-23T20:25:25.000040Z"
    }
   },
   "cell_type": "code",
   "source": [
    "img = open(\"data/images/test2.jpeg\", \"rb\")\n",
    "read_response = computervision_client.read_in_stream(\n",
    "    image=img,\n",
    "    mode=\"Printed\",\n",
    "    raw=True\n",
    ")\n",
    "operation_id = read_response.headers['Operation-Location'].split('/')[-1]\n",
    "while True:\n",
    "    read_result = computervision_client.get_read_result(operation_id)\n",
    "    if read_result.status not in ['notStarted', 'running']:\n",
    "        break\n",
    "    time.sleep(1)\n",
    "\n",
    "result = []\n",
    "if read_result.status == OperationStatusCodes.succeeded:\n",
    "    for text_result in read_result.analyze_result.read_results:\n",
    "        for line in text_result.lines:\n",
    "            result.append(line.text)\n",
    "print(result)"
   ],
   "id": "3610ac2d23edccc9",
   "outputs": [
    {
     "name": "stdout",
     "output_type": "stream",
     "text": [
      "['Lucces in resolvarea', 'TEMELOR la', 'LABORA toarele de', 'Inteligenta Artificialà!']\n"
     ]
    }
   ],
   "execution_count": 12
  },
  {
   "metadata": {},
   "cell_type": "markdown",
   "source": "a. by using a single distance metric - Levenshtein",
   "id": "4b2b973477ac570a"
  },
  {
   "metadata": {
    "ExecuteTime": {
     "end_time": "2025-03-23T20:16:40.182919Z",
     "start_time": "2025-03-23T20:16:40.171448Z"
    }
   },
   "cell_type": "code",
   "source": [
    "import Levenshtein\n",
    "\n",
    "true_text = (\"Succes în rezolvarea \"\n",
    "             \"tEMELOR la \"\n",
    "             \"LABORAtoarele de \"\n",
    "             \"Inteligență Artificială!\")\n",
    "\n",
    "#true_text = (\"Google Cloud \"\n",
    "#             \"Platform\")\n",
    "recognized_text = \" \".join(w for w in result)\n",
    "#print(true_text, recognized_text)\n",
    "char_error_rate = Levenshtein.distance(true_text, recognized_text) / len(true_text)\n",
    "\n",
    "true_words = true_text.split()\n",
    "recognized_words = recognized_text.split()\n",
    "#print(recognized_words)\n",
    "\n",
    "word_error_rate = Levenshtein.distance(true_words, recognized_words) / len(true_words)\n",
    "\n",
    "print(f\"CER: {char_error_rate:.2%}\", f\"WER: {word_error_rate:.2%}\")"
   ],
   "id": "b5eb5a1c4c677fc",
   "outputs": [
    {
     "name": "stdout",
     "output_type": "stream",
     "text": [
      "CER: 10.96% WER: 88.89%\n"
     ]
    }
   ],
   "execution_count": 10
  },
  {
   "metadata": {},
   "cell_type": "markdown",
   "source": "b. by using multiple distance metrics - Levenshtein, Hamming, Jaro-Winkler",
   "id": "2a41ee1aa59bd655"
  },
  {
   "metadata": {
    "ExecuteTime": {
     "end_time": "2025-03-23T20:16:44.964972Z",
     "start_time": "2025-03-23T20:16:44.395492Z"
    }
   },
   "cell_type": "code",
   "source": [
    "import jellyfish\n",
    "from matplotlib import pyplot as plt\n",
    "if len(true_text) == len(recognized_text):\n",
    "    hamming_dist = jellyfish.hamming_distance(true_text, recognized_text)\n",
    "else:\n",
    "    hamming_dist = 1  # Nu este aplicabil\n",
    "\n",
    "jaro_winkler_sim = jellyfish.jaro_winkler_similarity(true_text, recognized_text)\n",
    "\n",
    "print(f\"Hamming: {hamming_dist:.2%}\", f\"Jaro-Winkler: {jaro_winkler_sim:.2%}\")\n",
    "\n",
    "plt.figure(figsize=(10, 6))\n",
    "\n",
    "distances = {\"Levenshtein\": char_error_rate,\n",
    "        \"Hamming\": hamming_dist,\n",
    "        \"Jaro-Winkler\": jaro_winkler_sim}\n",
    "\n",
    "metrics = [\"Levenshtein\", \"Hamming\", \"Jaro-Winkler\"]\n",
    "\n",
    "plt.figure(figsize=(8, 6))\n",
    "bars = plt.bar(distances.keys(), distances.values(), color=['blue', 'red', 'green'])\n",
    "\n",
    "\n",
    "plt.ylabel(\"Valoare metrica\")\n",
    "plt.ylim(0, max(distances.values()) + 0.1)\n",
    "plt.grid(axis='y', linestyle='--', alpha=0.7)\n",
    "plt.ylabel(\"Rata de eroare\")\n",
    "plt.title(\"Compararea erorilor OCR folosind metrici de distanta\")\n",
    "plt.show()"
   ],
   "id": "d1a0bfa6c49d3752",
   "outputs": [
    {
     "name": "stdout",
     "output_type": "stream",
     "text": [
      "Hamming: 100.00% Jaro-Winkler85.65%\n"
     ]
    },
    {
     "data": {
      "text/plain": [
       "<Figure size 1000x600 with 0 Axes>"
      ]
     },
     "metadata": {},
     "output_type": "display_data"
    },
    {
     "data": {
      "text/plain": [
       "<Figure size 800x600 with 1 Axes>"
      ],
      "image/png": "[encoded data removed]"
     },
     "metadata": {},
     "output_type": "display_data"
    }
   ],
   "execution_count": 11
  }
 ],
 "metadata": {
  "kernelspec": {
   "display_name": "Python 3",
   "language": "python",
   "name": "python3"
  },
  "language_info": {
   "codemirror_mode": {
    "name": "ipython",
    "version": 2
   },
   "file_extension": ".py",
   "mimetype": "text/x-python",
   "name": "python",
   "nbconvert_exporter": "python",
   "pygments_lexer": "ipython2",
   "version": "2.7.6"
  }
 },
 "nbformat": 4,
 "nbformat_minor": 5
}
