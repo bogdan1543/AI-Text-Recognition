{
 "cells": [
  {
   "metadata": {},
   "cell_type": "markdown",
   "source": "3. Exploring possible improvements for enhancing text recognition quality",
   "id": "62fa2bb0f20045aa"
  },
  {
   "cell_type": "code",
   "id": "initial_id",
   "metadata": {
    "collapsed": true,
    "ExecuteTime": {
     "end_time": "2025-03-23T20:17:59.978809Z",
     "start_time": "2025-03-23T20:17:47.654403Z"
    }
   },
   "source": [
    "from azure.cognitiveservices.vision.computervision import ComputerVisionClient\n",
    "from azure.cognitiveservices.vision.computervision.models import OperationStatusCodes\n",
    "from msrest.authentication import CognitiveServicesCredentials\n",
    "import os\n",
    "from PIL import Image, ImageFilter, ImageEnhance\n",
    "import time\n",
    "\n",
    "'''\n",
    "Authenticate\n",
    "Authenticates your credentials and creates a client.\n",
    "'''\n",
    "subscription_key = os.environ[\"VISION_KEY\"]\n",
    "endpoint = os.environ[\"VISION_ENDPOINT\"]\n",
    "computervision_client = ComputerVisionClient(endpoint, CognitiveServicesCredentials(subscription_key))\n",
    "'''\n",
    "END - Authenticate\n",
    "'''\n",
    "\n",
    "\n",
    "def preprocess_image_to_grayscale(image_path):\n",
    "    img = Image.open(image_path)\n",
    "    img = img.convert(\"L\")\n",
    "    img = img.filter(ImageFilter.MedianFilter())\n",
    "\n",
    "    contrast_enhancer = ImageEnhance.Contrast(img)\n",
    "    img = contrast_enhancer.enhance(2)\n",
    "\n",
    "    sharpness_enhancer = ImageEnhance.Sharpness(img)\n",
    "    img = sharpness_enhancer.enhance(2)\n",
    "\n",
    "    preprocessed_path = \"data/images/preprocessed_image.jpg\"\n",
    "    img.save(preprocessed_path)\n",
    "    return preprocessed_path\n",
    "\n",
    "def resize_image(image_path, max_size=(500, 500)):\n",
    "    imgg = Image.open(image_path)\n",
    "    imgg.thumbnail(max_size)\n",
    "    imgg.save(\"resized_image.jpg\")\n",
    "\n",
    "\n",
    "image_path = \"data/images/test2.jpeg\"\n",
    "\n",
    "# Using a preprocessed image to grayscale\n",
    "processed_image_path = preprocess_image_to_grayscale(image_path)\n",
    "\n",
    "# Using a resized image\n",
    "# ---------------------\n",
    "#resize_image(image_path)\n",
    "#processed_image_path = \"resized_image.jpg\"\n",
    "\n",
    "img = open(processed_image_path, \"rb\")\n",
    "read_response = computervision_client.read_in_stream(\n",
    "    image=img,\n",
    "    mode=\"Printed\",\n",
    "    raw=True\n",
    ")\n",
    "operation_id = read_response.headers['Operation-Location'].split('/')[-1]\n",
    "while True:\n",
    "    read_result = computervision_client.get_read_result(operation_id)\n",
    "    print(read_result.status)\n",
    "    if read_result.status not in ['notStarted', 'running']:\n",
    "        break\n",
    "    time.sleep(1)\n",
    "\n",
    "result = []\n",
    "if read_result.status == OperationStatusCodes.succeeded:\n",
    "    for text_result in read_result.analyze_result.read_results:\n",
    "        for line in text_result.lines:\n",
    "            result.append(line.text)\n",
    "print(result)\n",
    "\n"
   ],
   "outputs": [
    {
     "name": "stdout",
     "output_type": "stream",
     "text": [
      "OperationStatusCodes.succeeded\n",
      "['Succes in resolvarea', 'TEMELOR la', 'LABORA toarele de', 'Inteligentà Artificialà!']\n"
     ]
    }
   ],
   "execution_count": 1
  },
  {
   "metadata": {
    "ExecuteTime": {
     "end_time": "2025-03-23T20:19:40.726239Z",
     "start_time": "2025-03-23T20:19:40.713970Z"
    }
   },
   "cell_type": "code",
   "source": [
    "import Levenshtein\n",
    "\n",
    "true_text = (\"Succes în rezolvarea \"\n",
    "             \"tEMELOR la \"\n",
    "             \"LABORAtoarele de \"\n",
    "             \"Inteligență Artificială!\")\n",
    "\n",
    "\"\"\"true_text = (\"Google Cloud \"\n",
    "             \"Platform\")\"\"\"\n",
    "recognized_text = \" \".join(w for w in result)\n",
    "char_error_rate = Levenshtein.distance(true_text, recognized_text) / len(true_text)\n",
    "\n",
    "true_words = true_text.split()\n",
    "recognized_words = recognized_text.split()\n",
    "\n",
    "word_error_rate = Levenshtein.distance(true_words, recognized_words) / len(true_words)\n",
    "\n",
    "print(f\"CER: {char_error_rate:.2%}\", f\"WER: {word_error_rate:.2%}\")\n"
   ],
   "id": "e7fe9acfc753d748",
   "outputs": [
    {
     "name": "stdout",
     "output_type": "stream",
     "text": [
      "CER: 9.59% WER: 77.78%\n"
     ]
    }
   ],
   "execution_count": 3
  },
  {
   "metadata": {},
   "cell_type": "markdown",
   "source": [
    "Before optimization: CER: 10.96% WER: 88.89% ( Pb1.ipynb - 1.a )\n",
    "\n",
    "After optimization: CER: 9.59% WER: 77.78%"
   ],
   "id": "c2b06806f261a7cd"
  }
 ],
 "metadata": {
  "kernelspec": {
   "display_name": "Python 3",
   "language": "python",
   "name": "python3"
  },
  "language_info": {
   "codemirror_mode": {
    "name": "ipython",
    "version": 2
   },
   "file_extension": ".py",
   "mimetype": "text/x-python",
   "name": "python",
   "nbconvert_exporter": "python",
   "pygments_lexer": "ipython2",
   "version": "2.7.6"
  }
 },
 "nbformat": 4,
 "nbformat_minor": 5
}
